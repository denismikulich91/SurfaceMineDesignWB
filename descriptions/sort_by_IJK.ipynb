{
 "cells": [
  {
   "cell_type": "markdown",
   "id": "e85f75c2",
   "metadata": {},
   "source": [
    "# Sort CSV File by I, J, and K Columns\n",
    "This notebook reads a CSV file, sorts it by `I`, `J`, and `K` values, and writes the sorted data back to a new file."
   ]
  },
  {
   "cell_type": "code",
   "execution_count": null,
   "id": "205bb927",
   "metadata": {},
   "outputs": [],
   "source": [
    "import pandas as pd"
   ]
  },
  {
   "cell_type": "code",
   "execution_count": null,
   "id": "fc0a3ee7",
   "metadata": {},
   "outputs": [],
   "source": [
    "# Load the CSV file\n",
    "file_path = 'menkar_to_freecad.csv'\n",
    "df = pd.read_csv(file_path)"
   ]
  },
  {
   "cell_type": "code",
   "execution_count": null,
   "id": "a5d61caf",
   "metadata": {},
   "outputs": [],
   "source": [
    "# Clean column names\n",
    "df.columns = df.columns.str.strip()"
   ]
  },
  {
   "cell_type": "code",
   "execution_count": null,
   "id": "eca44cbf",
   "metadata": {},
   "outputs": [],
   "source": [
    "# Sort by I, J, K\n",
    "df_sorted = df.sort_values(by=['I', 'J', 'K']).reset_index(drop=True)"
   ]
  },
  {
   "cell_type": "code",
   "execution_count": null,
   "id": "712e13ee",
   "metadata": {},
   "outputs": [],
   "source": [
    "# Save sorted DataFrame to a new CSV file\n",
    "df_sorted.to_csv('menkar_sorted_by_IJK.csv', index=False)"
   ]
  }
 ],
 "metadata": {},
 "nbformat": 4,
 "nbformat_minor": 5
}