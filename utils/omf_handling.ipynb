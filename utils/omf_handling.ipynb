{
 "cells": [
  {
   "cell_type": "code",
   "execution_count": 1,
   "metadata": {},
   "outputs": [],
   "source": [
    "import omf\n",
    "from blockmodel import BlockModelHandler"
   ]
  },
  {
   "cell_type": "code",
   "execution_count": 2,
   "metadata": {},
   "outputs": [],
   "source": [
    "omf_reader = omf.load(\"../design_assets/test_project.omf\")\n",
    "bm = omf_reader.elements[-1]"
   ]
  },
  {
   "cell_type": "code",
   "execution_count": 3,
   "metadata": {},
   "outputs": [
    {
     "data": {
      "text/plain": [
       "110"
      ]
     },
     "execution_count": 3,
     "metadata": {},
     "output_type": "execute_result"
    }
   ],
   "source": [
    "len(bm.tensor_u)"
   ]
  },
  {
   "cell_type": "code",
   "execution_count": 4,
   "metadata": {},
   "outputs": [],
   "source": [
    "bm_filter = {'CU_pct': ['>', 0.0]}\n",
    "bm_handler = BlockModelHandler(bm)"
   ]
  },
  {
   "cell_type": "code",
   "execution_count": 5,
   "metadata": {},
   "outputs": [],
   "source": [
    "bm_df = bm_handler.get_bm_dataframe"
   ]
  },
  {
   "cell_type": "code",
   "execution_count": 6,
   "metadata": {},
   "outputs": [],
   "source": [
    "bm_handler.make_compact()"
   ]
  },
  {
   "cell_type": "code",
   "execution_count": 7,
   "metadata": {},
   "outputs": [
    {
     "name": "stdout",
     "output_type": "stream",
     "text": [
      "         i_index  j_index  k_index  is_outer    CU_pct  z_coord\n",
      "0              0        0        0      True  0.002696   2330.0\n",
      "1              0        0        1      True  0.002720   2340.0\n",
      "2              0        0        2      True  0.002744   2350.0\n",
      "3              0        0        3      True  0.002768   2360.0\n",
      "4              0        0        4      True  0.002793   2370.0\n",
      "...          ...      ...      ...       ...       ...      ...\n",
      "1689595      109      159       91     False  0.004025   3240.0\n",
      "1689596      109      159       92     False  0.003979   3250.0\n",
      "1689597      109      159       93     False  0.003933   3260.0\n",
      "1689598      109      159       94     False  0.003888   3270.0\n",
      "1689599      109      159       95     False  0.003844   3280.0\n",
      "\n",
      "[1689600 rows x 6 columns]\n"
     ]
    }
   ],
   "source": [
    "print(bm_df[['i_index', 'j_index', 'k_index', 'is_outer', 'CU_pct', 'z_coord']])"
   ]
  }
 ],
 "metadata": {
  "kernelspec": {
   "display_name": "Python 3",
   "language": "python",
   "name": "python3"
  },
  "language_info": {
   "codemirror_mode": {
    "name": "ipython",
    "version": 3
   },
   "file_extension": ".py",
   "mimetype": "text/x-python",
   "name": "python",
   "nbconvert_exporter": "python",
   "pygments_lexer": "ipython3",
   "version": "3.11.10"
  }
 },
 "nbformat": 4,
 "nbformat_minor": 2
}
