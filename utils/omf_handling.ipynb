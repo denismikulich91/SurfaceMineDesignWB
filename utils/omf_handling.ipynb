{
 "cells": [
  {
   "cell_type": "code",
   "execution_count": null,
   "metadata": {},
   "outputs": [],
   "source": [
    "import omf\n",
    "from bm_handler import BlockModelHandler"
   ]
  },
  {
   "cell_type": "code",
   "execution_count": 2,
   "metadata": {},
   "outputs": [],
   "source": [
    "omf_reader = omf.load(\"../design_assets/test_project.omf\")\n",
    "bm = omf_reader.elements[-1]"
   ]
  },
  {
   "cell_type": "code",
   "execution_count": 3,
   "metadata": {},
   "outputs": [
    {
     "data": {
      "text/plain": [
       "110"
      ]
     },
     "execution_count": 3,
     "metadata": {},
     "output_type": "execute_result"
    }
   ],
   "source": [
    "len(bm.tensor_u)"
   ]
  },
  {
   "cell_type": "code",
   "execution_count": 4,
   "metadata": {},
   "outputs": [
    {
     "data": {
      "text/plain": [
       "18869"
      ]
     },
     "execution_count": 4,
     "metadata": {},
     "output_type": "execute_result"
    }
   ],
   "source": [
    "bm_handler = BlockModelHandler(bm, None, \"CU_pct > 2\")\n",
    "len(bm_handler.get_bm_dataframe)"
   ]
  },
  {
   "cell_type": "code",
   "execution_count": 5,
   "metadata": {},
   "outputs": [],
   "source": [
    "bm_handler.filter_dataframe_using_query(\"CU_pct > 2\")"
   ]
  },
  {
   "cell_type": "code",
   "execution_count": 6,
   "metadata": {},
   "outputs": [
    {
     "data": {
      "text/plain": [
       "18869"
      ]
     },
     "execution_count": 6,
     "metadata": {},
     "output_type": "execute_result"
    }
   ],
   "source": [
    "len(bm_handler.get_bm_dataframe)"
   ]
  },
  {
   "cell_type": "code",
   "execution_count": 7,
   "metadata": {},
   "outputs": [],
   "source": [
    "bm = bm_handler.get_bm_dataframe\n",
    "bm_handler.make_compact()\n"
   ]
  },
  {
   "cell_type": "code",
   "execution_count": 11,
   "metadata": {},
   "outputs": [
    {
     "data": {
      "text/plain": [
       "5182"
      ]
     },
     "execution_count": 11,
     "metadata": {},
     "output_type": "execute_result"
    }
   ],
   "source": [
    "df = bm_handler.get_bm_dataframe\n",
    "len(df[df['is_outer']])"
   ]
  },
  {
   "cell_type": "code",
   "execution_count": 12,
   "metadata": {},
   "outputs": [
    {
     "data": {
      "text/html": [
       "<div>\n",
       "<style scoped>\n",
       "    .dataframe tbody tr th:only-of-type {\n",
       "        vertical-align: middle;\n",
       "    }\n",
       "\n",
       "    .dataframe tbody tr th {\n",
       "        vertical-align: top;\n",
       "    }\n",
       "\n",
       "    .dataframe thead th {\n",
       "        text-align: right;\n",
       "    }\n",
       "</style>\n",
       "<table border=\"1\" class=\"dataframe\">\n",
       "  <thead>\n",
       "    <tr style=\"text-align: right;\">\n",
       "      <th></th>\n",
       "      <th>x_size</th>\n",
       "      <th>y_size</th>\n",
       "      <th>z_size</th>\n",
       "      <th>x_coord</th>\n",
       "      <th>y_coord</th>\n",
       "      <th>z_coord</th>\n",
       "      <th>i_index</th>\n",
       "      <th>j_index</th>\n",
       "      <th>k_index</th>\n",
       "      <th>bench</th>\n",
       "      <th>CU_pct</th>\n",
       "      <th>is_outer</th>\n",
       "    </tr>\n",
       "  </thead>\n",
       "  <tbody>\n",
       "    <tr>\n",
       "      <th>578725</th>\n",
       "      <td>10.0</td>\n",
       "      <td>10.0</td>\n",
       "      <td>10.0</td>\n",
       "      <td>445070.0</td>\n",
       "      <td>493880.0</td>\n",
       "      <td>2700.0</td>\n",
       "      <td>37</td>\n",
       "      <td>108</td>\n",
       "      <td>37</td>\n",
       "      <td>2700</td>\n",
       "      <td>2.140573</td>\n",
       "      <td>True</td>\n",
       "    </tr>\n",
       "    <tr>\n",
       "      <th>655562</th>\n",
       "      <td>10.0</td>\n",
       "      <td>10.0</td>\n",
       "      <td>10.0</td>\n",
       "      <td>445120.0</td>\n",
       "      <td>493880.0</td>\n",
       "      <td>3070.0</td>\n",
       "      <td>42</td>\n",
       "      <td>108</td>\n",
       "      <td>74</td>\n",
       "      <td>3070</td>\n",
       "      <td>2.016796</td>\n",
       "      <td>True</td>\n",
       "    </tr>\n",
       "    <tr>\n",
       "      <th>700074</th>\n",
       "      <td>10.0</td>\n",
       "      <td>10.0</td>\n",
       "      <td>10.0</td>\n",
       "      <td>445150.0</td>\n",
       "      <td>493720.0</td>\n",
       "      <td>2750.0</td>\n",
       "      <td>45</td>\n",
       "      <td>92</td>\n",
       "      <td>42</td>\n",
       "      <td>2750</td>\n",
       "      <td>2.000541</td>\n",
       "      <td>True</td>\n",
       "    </tr>\n",
       "    <tr>\n",
       "      <th>700075</th>\n",
       "      <td>10.0</td>\n",
       "      <td>10.0</td>\n",
       "      <td>10.0</td>\n",
       "      <td>445150.0</td>\n",
       "      <td>493720.0</td>\n",
       "      <td>2760.0</td>\n",
       "      <td>45</td>\n",
       "      <td>92</td>\n",
       "      <td>43</td>\n",
       "      <td>2760</td>\n",
       "      <td>2.092148</td>\n",
       "      <td>True</td>\n",
       "    </tr>\n",
       "    <tr>\n",
       "      <th>716288</th>\n",
       "      <td>10.0</td>\n",
       "      <td>10.0</td>\n",
       "      <td>10.0</td>\n",
       "      <td>445160.0</td>\n",
       "      <td>493810.0</td>\n",
       "      <td>2650.0</td>\n",
       "      <td>46</td>\n",
       "      <td>101</td>\n",
       "      <td>32</td>\n",
       "      <td>2650</td>\n",
       "      <td>2.200971</td>\n",
       "      <td>True</td>\n",
       "    </tr>\n",
       "    <tr>\n",
       "      <th>...</th>\n",
       "      <td>...</td>\n",
       "      <td>...</td>\n",
       "      <td>...</td>\n",
       "      <td>...</td>\n",
       "      <td>...</td>\n",
       "      <td>...</td>\n",
       "      <td>...</td>\n",
       "      <td>...</td>\n",
       "      <td>...</td>\n",
       "      <td>...</td>\n",
       "      <td>...</td>\n",
       "      <td>...</td>\n",
       "    </tr>\n",
       "    <tr>\n",
       "      <th>1435817</th>\n",
       "      <td>10.0</td>\n",
       "      <td>10.0</td>\n",
       "      <td>10.0</td>\n",
       "      <td>445630.0</td>\n",
       "      <td>493560.0</td>\n",
       "      <td>2740.0</td>\n",
       "      <td>93</td>\n",
       "      <td>76</td>\n",
       "      <td>41</td>\n",
       "      <td>2740</td>\n",
       "      <td>2.039027</td>\n",
       "      <td>True</td>\n",
       "    </tr>\n",
       "    <tr>\n",
       "      <th>1435818</th>\n",
       "      <td>10.0</td>\n",
       "      <td>10.0</td>\n",
       "      <td>10.0</td>\n",
       "      <td>445630.0</td>\n",
       "      <td>493560.0</td>\n",
       "      <td>2750.0</td>\n",
       "      <td>93</td>\n",
       "      <td>76</td>\n",
       "      <td>42</td>\n",
       "      <td>2750</td>\n",
       "      <td>2.075968</td>\n",
       "      <td>True</td>\n",
       "    </tr>\n",
       "    <tr>\n",
       "      <th>1435819</th>\n",
       "      <td>10.0</td>\n",
       "      <td>10.0</td>\n",
       "      <td>10.0</td>\n",
       "      <td>445630.0</td>\n",
       "      <td>493560.0</td>\n",
       "      <td>2760.0</td>\n",
       "      <td>93</td>\n",
       "      <td>76</td>\n",
       "      <td>43</td>\n",
       "      <td>2760</td>\n",
       "      <td>2.081447</td>\n",
       "      <td>True</td>\n",
       "    </tr>\n",
       "    <tr>\n",
       "      <th>1435820</th>\n",
       "      <td>10.0</td>\n",
       "      <td>10.0</td>\n",
       "      <td>10.0</td>\n",
       "      <td>445630.0</td>\n",
       "      <td>493560.0</td>\n",
       "      <td>2770.0</td>\n",
       "      <td>93</td>\n",
       "      <td>76</td>\n",
       "      <td>44</td>\n",
       "      <td>2770</td>\n",
       "      <td>2.049656</td>\n",
       "      <td>True</td>\n",
       "    </tr>\n",
       "    <tr>\n",
       "      <th>1435914</th>\n",
       "      <td>10.0</td>\n",
       "      <td>10.0</td>\n",
       "      <td>10.0</td>\n",
       "      <td>445630.0</td>\n",
       "      <td>493570.0</td>\n",
       "      <td>2750.0</td>\n",
       "      <td>93</td>\n",
       "      <td>77</td>\n",
       "      <td>42</td>\n",
       "      <td>2750</td>\n",
       "      <td>2.001216</td>\n",
       "      <td>True</td>\n",
       "    </tr>\n",
       "  </tbody>\n",
       "</table>\n",
       "<p>18869 rows × 12 columns</p>\n",
       "</div>"
      ],
      "text/plain": [
       "         x_size  y_size  z_size   x_coord   y_coord  z_coord  i_index  \\\n",
       "578725     10.0    10.0    10.0  445070.0  493880.0   2700.0       37   \n",
       "655562     10.0    10.0    10.0  445120.0  493880.0   3070.0       42   \n",
       "700074     10.0    10.0    10.0  445150.0  493720.0   2750.0       45   \n",
       "700075     10.0    10.0    10.0  445150.0  493720.0   2760.0       45   \n",
       "716288     10.0    10.0    10.0  445160.0  493810.0   2650.0       46   \n",
       "...         ...     ...     ...       ...       ...      ...      ...   \n",
       "1435817    10.0    10.0    10.0  445630.0  493560.0   2740.0       93   \n",
       "1435818    10.0    10.0    10.0  445630.0  493560.0   2750.0       93   \n",
       "1435819    10.0    10.0    10.0  445630.0  493560.0   2760.0       93   \n",
       "1435820    10.0    10.0    10.0  445630.0  493560.0   2770.0       93   \n",
       "1435914    10.0    10.0    10.0  445630.0  493570.0   2750.0       93   \n",
       "\n",
       "         j_index  k_index bench    CU_pct  is_outer  \n",
       "578725       108       37  2700  2.140573      True  \n",
       "655562       108       74  3070  2.016796      True  \n",
       "700074        92       42  2750  2.000541      True  \n",
       "700075        92       43  2760  2.092148      True  \n",
       "716288       101       32  2650  2.200971      True  \n",
       "...          ...      ...   ...       ...       ...  \n",
       "1435817       76       41  2740  2.039027      True  \n",
       "1435818       76       42  2750  2.075968      True  \n",
       "1435819       76       43  2760  2.081447      True  \n",
       "1435820       76       44  2770  2.049656      True  \n",
       "1435914       77       42  2750  2.001216      True  \n",
       "\n",
       "[18869 rows x 12 columns]"
      ]
     },
     "execution_count": 12,
     "metadata": {},
     "output_type": "execute_result"
    }
   ],
   "source": [
    "df"
   ]
  }
 ],
 "metadata": {
  "kernelspec": {
   "display_name": "Python 3",
   "language": "python",
   "name": "python3"
  },
  "language_info": {
   "codemirror_mode": {
    "name": "ipython",
    "version": 3
   },
   "file_extension": ".py",
   "mimetype": "text/x-python",
   "name": "python",
   "nbconvert_exporter": "python",
   "pygments_lexer": "ipython3",
   "version": "3.11.10"
  }
 },
 "nbformat": 4,
 "nbformat_minor": 2
}
